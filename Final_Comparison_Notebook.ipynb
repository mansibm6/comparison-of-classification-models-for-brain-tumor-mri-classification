{
  "nbformat": 4,
  "nbformat_minor": 0,
  "metadata": {
    "colab": {
      "name": "Final_Comparison_Notebook.ipynb",
      "provenance": [],
      "collapsed_sections": [],
      "toc_visible": true
    },
    "kernelspec": {
      "name": "python3",
      "display_name": "Python 3"
    },
    "language_info": {
      "name": "python"
    },
    "accelerator": "GPU"
  },
  "cells": [
    {
      "cell_type": "code",
      "metadata": {
        "colab": {
          "base_uri": "https://localhost:8080/"
        },
        "id": "xdzrhao3r-iK",
        "outputId": "9f1fbc3a-2356-4c97-fe7f-fe6cb222cc0b"
      },
      "source": [
        "# Check GPU\n",
        "!nvidia-smi"
      ],
      "execution_count": 1,
      "outputs": [
        {
          "output_type": "stream",
          "name": "stdout",
          "text": [
            "Tue Sep 28 13:06:53 2021       \n",
            "+-----------------------------------------------------------------------------+\n",
            "| NVIDIA-SMI 470.63.01    Driver Version: 460.32.03    CUDA Version: 11.2     |\n",
            "|-------------------------------+----------------------+----------------------+\n",
            "| GPU  Name        Persistence-M| Bus-Id        Disp.A | Volatile Uncorr. ECC |\n",
            "| Fan  Temp  Perf  Pwr:Usage/Cap|         Memory-Usage | GPU-Util  Compute M. |\n",
            "|                               |                      |               MIG M. |\n",
            "|===============================+======================+======================|\n",
            "|   0  Tesla K80           Off  | 00000000:00:04.0 Off |                    0 |\n",
            "| N/A   31C    P8    29W / 149W |      0MiB / 11441MiB |      0%      Default |\n",
            "|                               |                      |                  N/A |\n",
            "+-------------------------------+----------------------+----------------------+\n",
            "                                                                               \n",
            "+-----------------------------------------------------------------------------+\n",
            "| Processes:                                                                  |\n",
            "|  GPU   GI   CI        PID   Type   Process name                  GPU Memory |\n",
            "|        ID   ID                                                   Usage      |\n",
            "|=============================================================================|\n",
            "|  No running processes found                                                 |\n",
            "+-----------------------------------------------------------------------------+\n"
          ]
        }
      ]
    },
    {
      "cell_type": "code",
      "metadata": {
        "colab": {
          "base_uri": "https://localhost:8080/"
        },
        "id": "eh2VFI-0sP1I",
        "outputId": "23f55e74-e622-41d6-fa25-7a05823dc992"
      },
      "source": [
        "# Get helper functions file from Daniel Bourke's Github (He's an absolute Legend)\n",
        "!wget https://raw.githubusercontent.com/mrdbourke/tensorflow-deep-learning/main/extras/helper_functions.py"
      ],
      "execution_count": 2,
      "outputs": [
        {
          "output_type": "stream",
          "name": "stdout",
          "text": [
            "--2021-09-28 13:06:54--  https://raw.githubusercontent.com/mrdbourke/tensorflow-deep-learning/main/extras/helper_functions.py\n",
            "Resolving raw.githubusercontent.com (raw.githubusercontent.com)... 185.199.108.133, 185.199.109.133, 185.199.110.133, ...\n",
            "Connecting to raw.githubusercontent.com (raw.githubusercontent.com)|185.199.108.133|:443... connected.\n",
            "HTTP request sent, awaiting response... 200 OK\n",
            "Length: 10246 (10K) [text/plain]\n",
            "Saving to: ‘helper_functions.py’\n",
            "\n",
            "\rhelper_functions.py   0%[                    ]       0  --.-KB/s               \rhelper_functions.py 100%[===================>]  10.01K  --.-KB/s    in 0s      \n",
            "\n",
            "2021-09-28 13:06:54 (51.7 MB/s) - ‘helper_functions.py’ saved [10246/10246]\n",
            "\n"
          ]
        }
      ]
    },
    {
      "cell_type": "code",
      "metadata": {
        "id": "EjhBSFZosQT2"
      },
      "source": [
        "# Import series of helper functions for the notebook\n",
        "from helper_functions import create_tensorboard_callback, plot_loss_curves, unzip_data, compare_historys, walk_through_dir"
      ],
      "execution_count": 3,
      "outputs": []
    },
    {
      "cell_type": "code",
      "metadata": {
        "colab": {
          "base_uri": "https://localhost:8080/"
        },
        "id": "g8Mc0BC2sSw_",
        "outputId": "50b116a4-a2e2-444e-bf99-7d3b021b3726"
      },
      "source": [
        "from google.colab import drive\n",
        "drive.mount('/content/drive')"
      ],
      "execution_count": 4,
      "outputs": [
        {
          "output_type": "stream",
          "name": "stdout",
          "text": [
            "Mounted at /content/drive\n"
          ]
        }
      ]
    },
    {
      "cell_type": "markdown",
      "metadata": {
        "id": "rAiDQunDsWBT"
      },
      "source": [
        "# Data Preprocessing"
      ]
    },
    {
      "cell_type": "code",
      "metadata": {
        "id": "KerHO2ccses6"
      },
      "source": [
        "# Download and unzip data\n",
        "unzip_data(\"/content/drive/MyDrive/Brain_Tumor_Data/archive.zip\")"
      ],
      "execution_count": 5,
      "outputs": []
    },
    {
      "cell_type": "code",
      "metadata": {
        "colab": {
          "base_uri": "https://localhost:8080/"
        },
        "id": "UPuDY3K1sg1K",
        "outputId": "bde94974-8cd5-43ce-e991-8e26b05adc3e"
      },
      "source": [
        "# How many images/classes are there in training?\n",
        "walk_through_dir(\"/content/Training\")"
      ],
      "execution_count": 6,
      "outputs": [
        {
          "output_type": "stream",
          "name": "stdout",
          "text": [
            "There are 4 directories and 0 images in '/content/Training'.\n",
            "There are 0 directories and 827 images in '/content/Training/pituitary_tumor'.\n",
            "There are 0 directories and 822 images in '/content/Training/meningioma_tumor'.\n",
            "There are 0 directories and 826 images in '/content/Training/glioma_tumor'.\n",
            "There are 0 directories and 395 images in '/content/Training/no_tumor'.\n"
          ]
        }
      ]
    },
    {
      "cell_type": "code",
      "metadata": {
        "colab": {
          "base_uri": "https://localhost:8080/"
        },
        "id": "gnQrzvxYskVb",
        "outputId": "a9a31420-6ca1-4463-89a6-2b6bc68225f5"
      },
      "source": [
        "# How many images/classes are there in testing?\n",
        "walk_through_dir(\"/content/Testing\")"
      ],
      "execution_count": 7,
      "outputs": [
        {
          "output_type": "stream",
          "name": "stdout",
          "text": [
            "There are 4 directories and 0 images in '/content/Testing'.\n",
            "There are 0 directories and 74 images in '/content/Testing/pituitary_tumor'.\n",
            "There are 0 directories and 115 images in '/content/Testing/meningioma_tumor'.\n",
            "There are 0 directories and 100 images in '/content/Testing/glioma_tumor'.\n",
            "There are 0 directories and 105 images in '/content/Testing/no_tumor'.\n"
          ]
        }
      ]
    },
    {
      "cell_type": "code",
      "metadata": {
        "id": "EfDuCi2qsxAV"
      },
      "source": [
        "# Set training and testing directories\n",
        "train_dir = \"/content/Training\"\n",
        "test_dir = \"/content/Testing\""
      ],
      "execution_count": 8,
      "outputs": []
    },
    {
      "cell_type": "code",
      "metadata": {
        "colab": {
          "base_uri": "https://localhost:8080/"
        },
        "id": "dbZZDfiBsodY",
        "outputId": "741d12ff-72f7-492f-ebaf-8c87cbf0ad8a"
      },
      "source": [
        "# Setup data inputs\n",
        "import tensorflow as tf\n",
        "IMG_SIZE = (224, 224)\n",
        "train_data = tf.keras.preprocessing.image_dataset_from_directory(train_dir,\n",
        "                                                                 label_mode=\"categorical\",\n",
        "                                                                 image_size=IMG_SIZE)\n",
        "                                                                                \n",
        "test_data = tf.keras.preprocessing.image_dataset_from_directory(test_dir,\n",
        "                                                                label_mode=\"categorical\",\n",
        "                                                                image_size=IMG_SIZE,\n",
        "                                                                shuffle=False) # don't shuffle test data for prediction analysis"
      ],
      "execution_count": 9,
      "outputs": [
        {
          "output_type": "stream",
          "name": "stdout",
          "text": [
            "Found 2870 files belonging to 4 classes.\n",
            "Found 394 files belonging to 4 classes.\n"
          ]
        }
      ]
    },
    {
      "cell_type": "code",
      "metadata": {
        "id": "MnnaIpVPss04"
      },
      "source": [
        "# Create checkpoint callback to save model for later use\n",
        "checkpoint_path = \"brain_tumor_classification_model_checkpoint\"\n",
        "checkpoint_callback = tf.keras.callbacks.ModelCheckpoint(checkpoint_path,\n",
        "                                                         save_weights_only=True, # save only the model weights\n",
        "                                                         monitor=\"val_accuracy\", # save the model weights which score the best validation accuracy\n",
        "                                                         save_best_only=True) # only keep the best model weights on file (delete the rest)"
      ],
      "execution_count": 10,
      "outputs": []
    },
    {
      "cell_type": "code",
      "metadata": {
        "id": "rZSNikNSs395"
      },
      "source": [
        "# Import the required modules for model creation\n",
        "from tensorflow.keras import layers\n",
        "from tensorflow.keras.layers.experimental import preprocessing\n",
        "from tensorflow.keras.models import Sequential\n",
        "\n",
        "# Setup data augmentation\n",
        "data_augmentation = Sequential([\n",
        "  preprocessing.RandomFlip(\"horizontal\"), # randomly flip images on horizontal edge\n",
        "  preprocessing.RandomRotation(0.2), # randomly rotate images by a specific amount\n",
        "  preprocessing.RandomHeight(0.2), # randomly adjust the height of an image by a specific amount\n",
        "  preprocessing.RandomWidth(0.2), # randomly adjust the width of an image by a specific amount\n",
        "  preprocessing.RandomZoom(0.2) # randomly zoom into an image\n",
        "  ], name=\"data_augmentation\")"
      ],
      "execution_count": 11,
      "outputs": []
    },
    {
      "cell_type": "markdown",
      "metadata": {
        "id": "ehMJc4kvtFv4"
      },
      "source": [
        "# EfficientNetB0 Model (Fully Trainable)"
      ]
    },
    {
      "cell_type": "code",
      "metadata": {
        "colab": {
          "base_uri": "https://localhost:8080/"
        },
        "id": "Z9p38aN-tI32",
        "outputId": "95c29853-8152-4877-bada-3b32682223c3"
      },
      "source": [
        "# Setup base model\n",
        "base_model = tf.keras.applications.EfficientNetB0(include_top=False)\n",
        "base_model.trainable = False\n",
        "\n",
        "# Setup model architecture\n",
        "inputs = layers.Input(shape=(224, 224, 3), name=\"input_layer\") # shape of input image\n",
        "x = data_augmentation(inputs) # augment images (only happens during training)\n",
        "x = base_model(x, training=False) \n",
        "x = layers.GlobalAveragePooling2D(name=\"global_average_pooling\")(x) # pool the outputs of the base model\n",
        "outputs = layers.Dense(len(train_data.class_names), activation=\"softmax\", name=\"output_layer\")(x) # same number of outputs as classes\n",
        "model_efficientnetb0 = tf.keras.Model(inputs, outputs)"
      ],
      "execution_count": 12,
      "outputs": [
        {
          "output_type": "stream",
          "name": "stdout",
          "text": [
            "Downloading data from https://storage.googleapis.com/keras-applications/efficientnetb0_notop.h5\n",
            "16711680/16705208 [==============================] - 0s 0us/step\n",
            "16719872/16705208 [==============================] - 0s 0us/step\n"
          ]
        }
      ]
    },
    {
      "cell_type": "code",
      "metadata": {
        "colab": {
          "base_uri": "https://localhost:8080/"
        },
        "id": "MIDhE8satgBo",
        "outputId": "79257744-77fd-4116-edfd-ee22c0124ff1"
      },
      "source": [
        "# Get a summary of our model\n",
        "model_efficientnetb0.summary()"
      ],
      "execution_count": 13,
      "outputs": [
        {
          "output_type": "stream",
          "name": "stdout",
          "text": [
            "Model: \"model\"\n",
            "_________________________________________________________________\n",
            "Layer (type)                 Output Shape              Param #   \n",
            "=================================================================\n",
            "input_layer (InputLayer)     [(None, 224, 224, 3)]     0         \n",
            "_________________________________________________________________\n",
            "data_augmentation (Sequentia (None, None, None, 3)     0         \n",
            "_________________________________________________________________\n",
            "efficientnetb0 (Functional)  (None, None, None, 1280)  4049571   \n",
            "_________________________________________________________________\n",
            "global_average_pooling (Glob (None, 1280)              0         \n",
            "_________________________________________________________________\n",
            "output_layer (Dense)         (None, 4)                 5124      \n",
            "=================================================================\n",
            "Total params: 4,054,695\n",
            "Trainable params: 5,124\n",
            "Non-trainable params: 4,049,571\n",
            "_________________________________________________________________\n"
          ]
        }
      ]
    },
    {
      "cell_type": "code",
      "metadata": {
        "id": "u_lGQj_0wvyi"
      },
      "source": [
        "# Unfreeze all of the layers in the base model\n",
        "base_model.trainable = True"
      ],
      "execution_count": 14,
      "outputs": []
    },
    {
      "cell_type": "code",
      "metadata": {
        "id": "7Oxj2YH9tgew"
      },
      "source": [
        "# Compile the mdoel\n",
        "model_efficientnetb0.compile(loss='categorical_crossentropy',\n",
        "              optimizer=tf.keras.optimizers.Adam(1e-4), \n",
        "              metrics=['accuracy'])"
      ],
      "execution_count": 15,
      "outputs": []
    },
    {
      "cell_type": "code",
      "metadata": {
        "colab": {
          "base_uri": "https://localhost:8080/"
        },
        "id": "L3yXVZYvxCHq",
        "outputId": "fb19262a-3469-4247-a85a-0ff7e47976c4"
      },
      "source": [
        "# What layers in the model are trainable?\n",
        "for layer in model_efficientnetb0.layers:\n",
        "  print(layer.name, layer.trainable)"
      ],
      "execution_count": 16,
      "outputs": [
        {
          "output_type": "stream",
          "name": "stdout",
          "text": [
            "input_layer True\n",
            "data_augmentation True\n",
            "efficientnetb0 True\n",
            "global_average_pooling True\n",
            "output_layer True\n"
          ]
        }
      ]
    },
    {
      "cell_type": "code",
      "metadata": {
        "colab": {
          "base_uri": "https://localhost:8080/"
        },
        "id": "SRocBgfwxFVp",
        "outputId": "892f6df4-dac2-4f0c-9174-d030b764570d"
      },
      "source": [
        "# Check which layers are trainable\n",
        "for layer_number, layer in enumerate(base_model.layers):\n",
        "  print(layer_number, layer.name, layer.trainable)"
      ],
      "execution_count": 17,
      "outputs": [
        {
          "output_type": "stream",
          "name": "stdout",
          "text": [
            "0 input_1 True\n",
            "1 rescaling True\n",
            "2 normalization True\n",
            "3 stem_conv_pad True\n",
            "4 stem_conv True\n",
            "5 stem_bn True\n",
            "6 stem_activation True\n",
            "7 block1a_dwconv True\n",
            "8 block1a_bn True\n",
            "9 block1a_activation True\n",
            "10 block1a_se_squeeze True\n",
            "11 block1a_se_reshape True\n",
            "12 block1a_se_reduce True\n",
            "13 block1a_se_expand True\n",
            "14 block1a_se_excite True\n",
            "15 block1a_project_conv True\n",
            "16 block1a_project_bn True\n",
            "17 block2a_expand_conv True\n",
            "18 block2a_expand_bn True\n",
            "19 block2a_expand_activation True\n",
            "20 block2a_dwconv_pad True\n",
            "21 block2a_dwconv True\n",
            "22 block2a_bn True\n",
            "23 block2a_activation True\n",
            "24 block2a_se_squeeze True\n",
            "25 block2a_se_reshape True\n",
            "26 block2a_se_reduce True\n",
            "27 block2a_se_expand True\n",
            "28 block2a_se_excite True\n",
            "29 block2a_project_conv True\n",
            "30 block2a_project_bn True\n",
            "31 block2b_expand_conv True\n",
            "32 block2b_expand_bn True\n",
            "33 block2b_expand_activation True\n",
            "34 block2b_dwconv True\n",
            "35 block2b_bn True\n",
            "36 block2b_activation True\n",
            "37 block2b_se_squeeze True\n",
            "38 block2b_se_reshape True\n",
            "39 block2b_se_reduce True\n",
            "40 block2b_se_expand True\n",
            "41 block2b_se_excite True\n",
            "42 block2b_project_conv True\n",
            "43 block2b_project_bn True\n",
            "44 block2b_drop True\n",
            "45 block2b_add True\n",
            "46 block3a_expand_conv True\n",
            "47 block3a_expand_bn True\n",
            "48 block3a_expand_activation True\n",
            "49 block3a_dwconv_pad True\n",
            "50 block3a_dwconv True\n",
            "51 block3a_bn True\n",
            "52 block3a_activation True\n",
            "53 block3a_se_squeeze True\n",
            "54 block3a_se_reshape True\n",
            "55 block3a_se_reduce True\n",
            "56 block3a_se_expand True\n",
            "57 block3a_se_excite True\n",
            "58 block3a_project_conv True\n",
            "59 block3a_project_bn True\n",
            "60 block3b_expand_conv True\n",
            "61 block3b_expand_bn True\n",
            "62 block3b_expand_activation True\n",
            "63 block3b_dwconv True\n",
            "64 block3b_bn True\n",
            "65 block3b_activation True\n",
            "66 block3b_se_squeeze True\n",
            "67 block3b_se_reshape True\n",
            "68 block3b_se_reduce True\n",
            "69 block3b_se_expand True\n",
            "70 block3b_se_excite True\n",
            "71 block3b_project_conv True\n",
            "72 block3b_project_bn True\n",
            "73 block3b_drop True\n",
            "74 block3b_add True\n",
            "75 block4a_expand_conv True\n",
            "76 block4a_expand_bn True\n",
            "77 block4a_expand_activation True\n",
            "78 block4a_dwconv_pad True\n",
            "79 block4a_dwconv True\n",
            "80 block4a_bn True\n",
            "81 block4a_activation True\n",
            "82 block4a_se_squeeze True\n",
            "83 block4a_se_reshape True\n",
            "84 block4a_se_reduce True\n",
            "85 block4a_se_expand True\n",
            "86 block4a_se_excite True\n",
            "87 block4a_project_conv True\n",
            "88 block4a_project_bn True\n",
            "89 block4b_expand_conv True\n",
            "90 block4b_expand_bn True\n",
            "91 block4b_expand_activation True\n",
            "92 block4b_dwconv True\n",
            "93 block4b_bn True\n",
            "94 block4b_activation True\n",
            "95 block4b_se_squeeze True\n",
            "96 block4b_se_reshape True\n",
            "97 block4b_se_reduce True\n",
            "98 block4b_se_expand True\n",
            "99 block4b_se_excite True\n",
            "100 block4b_project_conv True\n",
            "101 block4b_project_bn True\n",
            "102 block4b_drop True\n",
            "103 block4b_add True\n",
            "104 block4c_expand_conv True\n",
            "105 block4c_expand_bn True\n",
            "106 block4c_expand_activation True\n",
            "107 block4c_dwconv True\n",
            "108 block4c_bn True\n",
            "109 block4c_activation True\n",
            "110 block4c_se_squeeze True\n",
            "111 block4c_se_reshape True\n",
            "112 block4c_se_reduce True\n",
            "113 block4c_se_expand True\n",
            "114 block4c_se_excite True\n",
            "115 block4c_project_conv True\n",
            "116 block4c_project_bn True\n",
            "117 block4c_drop True\n",
            "118 block4c_add True\n",
            "119 block5a_expand_conv True\n",
            "120 block5a_expand_bn True\n",
            "121 block5a_expand_activation True\n",
            "122 block5a_dwconv True\n",
            "123 block5a_bn True\n",
            "124 block5a_activation True\n",
            "125 block5a_se_squeeze True\n",
            "126 block5a_se_reshape True\n",
            "127 block5a_se_reduce True\n",
            "128 block5a_se_expand True\n",
            "129 block5a_se_excite True\n",
            "130 block5a_project_conv True\n",
            "131 block5a_project_bn True\n",
            "132 block5b_expand_conv True\n",
            "133 block5b_expand_bn True\n",
            "134 block5b_expand_activation True\n",
            "135 block5b_dwconv True\n",
            "136 block5b_bn True\n",
            "137 block5b_activation True\n",
            "138 block5b_se_squeeze True\n",
            "139 block5b_se_reshape True\n",
            "140 block5b_se_reduce True\n",
            "141 block5b_se_expand True\n",
            "142 block5b_se_excite True\n",
            "143 block5b_project_conv True\n",
            "144 block5b_project_bn True\n",
            "145 block5b_drop True\n",
            "146 block5b_add True\n",
            "147 block5c_expand_conv True\n",
            "148 block5c_expand_bn True\n",
            "149 block5c_expand_activation True\n",
            "150 block5c_dwconv True\n",
            "151 block5c_bn True\n",
            "152 block5c_activation True\n",
            "153 block5c_se_squeeze True\n",
            "154 block5c_se_reshape True\n",
            "155 block5c_se_reduce True\n",
            "156 block5c_se_expand True\n",
            "157 block5c_se_excite True\n",
            "158 block5c_project_conv True\n",
            "159 block5c_project_bn True\n",
            "160 block5c_drop True\n",
            "161 block5c_add True\n",
            "162 block6a_expand_conv True\n",
            "163 block6a_expand_bn True\n",
            "164 block6a_expand_activation True\n",
            "165 block6a_dwconv_pad True\n",
            "166 block6a_dwconv True\n",
            "167 block6a_bn True\n",
            "168 block6a_activation True\n",
            "169 block6a_se_squeeze True\n",
            "170 block6a_se_reshape True\n",
            "171 block6a_se_reduce True\n",
            "172 block6a_se_expand True\n",
            "173 block6a_se_excite True\n",
            "174 block6a_project_conv True\n",
            "175 block6a_project_bn True\n",
            "176 block6b_expand_conv True\n",
            "177 block6b_expand_bn True\n",
            "178 block6b_expand_activation True\n",
            "179 block6b_dwconv True\n",
            "180 block6b_bn True\n",
            "181 block6b_activation True\n",
            "182 block6b_se_squeeze True\n",
            "183 block6b_se_reshape True\n",
            "184 block6b_se_reduce True\n",
            "185 block6b_se_expand True\n",
            "186 block6b_se_excite True\n",
            "187 block6b_project_conv True\n",
            "188 block6b_project_bn True\n",
            "189 block6b_drop True\n",
            "190 block6b_add True\n",
            "191 block6c_expand_conv True\n",
            "192 block6c_expand_bn True\n",
            "193 block6c_expand_activation True\n",
            "194 block6c_dwconv True\n",
            "195 block6c_bn True\n",
            "196 block6c_activation True\n",
            "197 block6c_se_squeeze True\n",
            "198 block6c_se_reshape True\n",
            "199 block6c_se_reduce True\n",
            "200 block6c_se_expand True\n",
            "201 block6c_se_excite True\n",
            "202 block6c_project_conv True\n",
            "203 block6c_project_bn True\n",
            "204 block6c_drop True\n",
            "205 block6c_add True\n",
            "206 block6d_expand_conv True\n",
            "207 block6d_expand_bn True\n",
            "208 block6d_expand_activation True\n",
            "209 block6d_dwconv True\n",
            "210 block6d_bn True\n",
            "211 block6d_activation True\n",
            "212 block6d_se_squeeze True\n",
            "213 block6d_se_reshape True\n",
            "214 block6d_se_reduce True\n",
            "215 block6d_se_expand True\n",
            "216 block6d_se_excite True\n",
            "217 block6d_project_conv True\n",
            "218 block6d_project_bn True\n",
            "219 block6d_drop True\n",
            "220 block6d_add True\n",
            "221 block7a_expand_conv True\n",
            "222 block7a_expand_bn True\n",
            "223 block7a_expand_activation True\n",
            "224 block7a_dwconv True\n",
            "225 block7a_bn True\n",
            "226 block7a_activation True\n",
            "227 block7a_se_squeeze True\n",
            "228 block7a_se_reshape True\n",
            "229 block7a_se_reduce True\n",
            "230 block7a_se_expand True\n",
            "231 block7a_se_excite True\n",
            "232 block7a_project_conv True\n",
            "233 block7a_project_bn True\n",
            "234 top_conv True\n",
            "235 top_bn True\n",
            "236 top_activation True\n"
          ]
        }
      ]
    },
    {
      "cell_type": "code",
      "metadata": {
        "colab": {
          "base_uri": "https://localhost:8080/"
        },
        "id": "0ArzKJ4DxNuG",
        "outputId": "30bb0c00-23e6-4223-8474-bb9df35967f4"
      },
      "source": [
        "# Train for 10 epochs\n",
        "epochs = 10 \n",
        "\n",
        "history_efficientnetb0 = model_efficientnetb0.fit(train_data,\n",
        "                      epochs=epochs,\n",
        "                      validation_data=test_data,\n",
        "                      validation_steps=int(len(test_data)))"
      ],
      "execution_count": 18,
      "outputs": [
        {
          "output_type": "stream",
          "name": "stdout",
          "text": [
            "Epoch 1/10\n",
            "90/90 [==============================] - 170s 1s/step - loss: 0.7143 - accuracy: 0.7105 - val_loss: 1.2916 - val_accuracy: 0.5838\n",
            "Epoch 2/10\n",
            "90/90 [==============================] - 104s 1s/step - loss: 0.2821 - accuracy: 0.8902 - val_loss: 1.3854 - val_accuracy: 0.6904\n",
            "Epoch 3/10\n",
            "90/90 [==============================] - 101s 1s/step - loss: 0.1870 - accuracy: 0.9310 - val_loss: 1.4388 - val_accuracy: 0.7157\n",
            "Epoch 4/10\n",
            "90/90 [==============================] - 93s 1s/step - loss: 0.1426 - accuracy: 0.9463 - val_loss: 1.5555 - val_accuracy: 0.7360\n",
            "Epoch 5/10\n",
            "90/90 [==============================] - 88s 978ms/step - loss: 0.0943 - accuracy: 0.9697 - val_loss: 1.4899 - val_accuracy: 0.7513\n",
            "Epoch 6/10\n",
            "90/90 [==============================] - 85s 935ms/step - loss: 0.0942 - accuracy: 0.9655 - val_loss: 1.4052 - val_accuracy: 0.7817\n",
            "Epoch 7/10\n",
            "90/90 [==============================] - 85s 935ms/step - loss: 0.0638 - accuracy: 0.9760 - val_loss: 1.7195 - val_accuracy: 0.7868\n",
            "Epoch 8/10\n",
            "90/90 [==============================] - 85s 935ms/step - loss: 0.0843 - accuracy: 0.9707 - val_loss: 1.7332 - val_accuracy: 0.7411\n",
            "Epoch 9/10\n",
            "90/90 [==============================] - 78s 859ms/step - loss: 0.0579 - accuracy: 0.9801 - val_loss: 1.6793 - val_accuracy: 0.7741\n",
            "Epoch 10/10\n",
            "90/90 [==============================] - 77s 842ms/step - loss: 0.0392 - accuracy: 0.9864 - val_loss: 1.7539 - val_accuracy: 0.7614\n"
          ]
        }
      ]
    },
    {
      "cell_type": "code",
      "metadata": {
        "colab": {
          "base_uri": "https://localhost:8080/"
        },
        "id": "-A1WKEfBAIEo",
        "outputId": "707d6ac6-06f5-4388-aa4d-5d7bb44760e3"
      },
      "source": [
        "# Save model to drive so it can be used later \n",
        "model_efficientnetb0.save(\"drive/My Drive/Brain_Tumor_Data/efficientnetb0_model.h5\")"
      ],
      "execution_count": 19,
      "outputs": [
        {
          "output_type": "stream",
          "name": "stderr",
          "text": [
            "/usr/local/lib/python3.7/dist-packages/keras/utils/generic_utils.py:497: CustomMaskWarning: Custom mask layers require a config and must override get_config. When loading, the custom mask layer must be passed to the custom_objects argument.\n",
            "  category=CustomMaskWarning)\n"
          ]
        }
      ]
    },
    {
      "cell_type": "code",
      "metadata": {
        "colab": {
          "base_uri": "https://localhost:8080/"
        },
        "id": "soG8316nANuM",
        "outputId": "c03a97dd-0878-412e-86a1-0bfd8b13f466"
      },
      "source": [
        "# Evaluate the model\n",
        "loaded_loss, loaded_accuracy = model_efficientnetb0.evaluate(test_data)\n",
        "loaded_loss, loaded_accuracy"
      ],
      "execution_count": 20,
      "outputs": [
        {
          "output_type": "stream",
          "name": "stdout",
          "text": [
            "13/13 [==============================] - 2s 137ms/step - loss: 1.7539 - accuracy: 0.7614\n"
          ]
        },
        {
          "output_type": "execute_result",
          "data": {
            "text/plain": [
              "(1.753935694694519, 0.7614213228225708)"
            ]
          },
          "metadata": {},
          "execution_count": 20
        }
      ]
    },
    {
      "cell_type": "code",
      "metadata": {
        "colab": {
          "base_uri": "https://localhost:8080/"
        },
        "id": "lfIdMkNuARgn",
        "outputId": "c18f792f-90a2-4ba4-97fe-6b29a05f410a"
      },
      "source": [
        "# Make predictions with model\n",
        "pred_probs = model_efficientnetb0.predict(test_data, verbose=1) # set verbosity to see how long it will take"
      ],
      "execution_count": 21,
      "outputs": [
        {
          "output_type": "stream",
          "name": "stdout",
          "text": [
            "13/13 [==============================] - 3s 110ms/step\n"
          ]
        }
      ]
    },
    {
      "cell_type": "code",
      "metadata": {
        "colab": {
          "base_uri": "https://localhost:8080/"
        },
        "id": "agQ2b0C8AZ2g",
        "outputId": "11add79f-8fe8-4e38-ec85-640ce9d79d53"
      },
      "source": [
        "# What's the shape of our predictions?\n",
        "pred_probs.shape"
      ],
      "execution_count": 22,
      "outputs": [
        {
          "output_type": "execute_result",
          "data": {
            "text/plain": [
              "(394, 4)"
            ]
          },
          "metadata": {},
          "execution_count": 22
        }
      ]
    },
    {
      "cell_type": "code",
      "metadata": {
        "colab": {
          "base_uri": "https://localhost:8080/"
        },
        "id": "IAwiyQqUAeR5",
        "outputId": "70c0c2f9-f8ad-4b60-d34a-f51a864b651f"
      },
      "source": [
        "# How do they look?\n",
        "pred_probs[:10]"
      ],
      "execution_count": 23,
      "outputs": [
        {
          "output_type": "execute_result",
          "data": {
            "text/plain": [
              "array([[7.4788260e-01, 2.0824990e-03, 2.4991113e-01, 1.2379467e-04],\n",
              "       [1.2688553e-02, 8.8926947e-01, 4.8530430e-02, 4.9511485e-02],\n",
              "       [1.6339970e-04, 9.9919218e-01, 3.4750631e-04, 2.9694522e-04],\n",
              "       [1.5868813e-01, 3.2706070e-01, 4.4885953e-04, 5.1380235e-01],\n",
              "       [1.5868813e-01, 3.2706070e-01, 4.4885953e-04, 5.1380235e-01],\n",
              "       [7.7455101e-04, 3.1980488e-02, 8.0211069e-03, 9.5922393e-01],\n",
              "       [1.1410808e-02, 2.6667908e-01, 6.5787870e-01, 6.4031422e-02],\n",
              "       [1.6088273e-07, 3.9247844e-01, 6.0706383e-01, 4.5757793e-04],\n",
              "       [1.7822468e-06, 1.1856027e-01, 8.7568510e-01, 5.7527986e-03],\n",
              "       [9.5389158e-05, 9.7977087e-02, 4.6634570e-01, 4.3558186e-01]],\n",
              "      dtype=float32)"
            ]
          },
          "metadata": {},
          "execution_count": 23
        }
      ]
    },
    {
      "cell_type": "code",
      "metadata": {
        "colab": {
          "base_uri": "https://localhost:8080/"
        },
        "id": "NGpN5p9gAgJe",
        "outputId": "b06f1135-ab61-4426-ece0-f784827a32ff"
      },
      "source": [
        "# We get one prediction probability per class\n",
        "print(f\"Number of prediction probabilities for sample 0: {len(pred_probs[0])}\")\n",
        "print(f\"What prediction probability sample 0 looks like:\\n {pred_probs[0]}\")\n",
        "print(f\"The class with the highest predicted probability by the model for sample 0: {pred_probs[0].argmax()}\")"
      ],
      "execution_count": 24,
      "outputs": [
        {
          "output_type": "stream",
          "name": "stdout",
          "text": [
            "Number of prediction probabilities for sample 0: 4\n",
            "What prediction probability sample 0 looks like:\n",
            " [7.4788260e-01 2.0824990e-03 2.4991113e-01 1.2379467e-04]\n",
            "The class with the highest predicted probability by the model for sample 0: 0\n"
          ]
        }
      ]
    },
    {
      "cell_type": "code",
      "metadata": {
        "colab": {
          "base_uri": "https://localhost:8080/"
        },
        "id": "nT6QNLAMAk6O",
        "outputId": "bbf1dedf-bb90-407e-fc3d-05b97e3cbcbc"
      },
      "source": [
        "# Get the class predicitons of each label\n",
        "pred_classes = pred_probs.argmax(axis=1)\n",
        "\n",
        "# How do they look?\n",
        "pred_classes[:100]"
      ],
      "execution_count": 25,
      "outputs": [
        {
          "output_type": "execute_result",
          "data": {
            "text/plain": [
              "array([0, 1, 1, 3, 3, 3, 2, 2, 2, 2, 2, 2, 1, 2, 2, 1, 1, 3, 2, 1, 2, 3,\n",
              "       3, 2, 2, 2, 0, 2, 1, 2, 3, 2, 2, 2, 3, 1, 2, 2, 0, 1, 0, 2, 2, 1,\n",
              "       1, 1, 2, 2, 1, 2, 1, 2, 2, 1, 1, 0, 2, 0, 0, 0, 0, 0, 0, 0, 0, 0,\n",
              "       0, 3, 0, 0, 0, 0, 3, 0, 3, 1, 0, 3, 2, 1, 2, 2, 1, 2, 0, 2, 2, 2,\n",
              "       1, 1, 3, 2, 2, 3, 3, 2, 1, 1, 1, 0])"
            ]
          },
          "metadata": {},
          "execution_count": 25
        }
      ]
    },
    {
      "cell_type": "code",
      "metadata": {
        "colab": {
          "base_uri": "https://localhost:8080/"
        },
        "id": "MpYXIpgsAoXE",
        "outputId": "7fc0fb4d-1676-43c6-a63f-98777a62c6c1"
      },
      "source": [
        "y_labels = []\n",
        "for images, labels in test_data.unbatch(): # unbatch the test data and get images and labels\n",
        "  y_labels.append(labels.numpy().argmax()) # append the index which has the largest value (labels are one-hot)\n",
        "y_labels[:10] # check what they look like (unshuffled)"
      ],
      "execution_count": 26,
      "outputs": [
        {
          "output_type": "execute_result",
          "data": {
            "text/plain": [
              "[0, 0, 0, 0, 0, 0, 0, 0, 0, 0]"
            ]
          },
          "metadata": {},
          "execution_count": 26
        }
      ]
    },
    {
      "cell_type": "code",
      "metadata": {
        "colab": {
          "base_uri": "https://localhost:8080/"
        },
        "id": "JtjBmnVDAsCb",
        "outputId": "20704928-01ad-4ba3-87b2-1e2eedd69b21"
      },
      "source": [
        "# How many labels are there? (should be the same as how many prediction probabilities we have)\n",
        "len(y_labels)"
      ],
      "execution_count": 27,
      "outputs": [
        {
          "output_type": "execute_result",
          "data": {
            "text/plain": [
              "394"
            ]
          },
          "metadata": {},
          "execution_count": 27
        }
      ]
    },
    {
      "cell_type": "code",
      "metadata": {
        "colab": {
          "base_uri": "https://localhost:8080/"
        },
        "id": "CuEEzr76AuOq",
        "outputId": "f69d9b06-3f3a-4495-b574-537cc8d8903a"
      },
      "source": [
        "# Get accuracy score by comparing predicted classes to ground truth labels\n",
        "from sklearn.metrics import accuracy_score\n",
        "sklearn_accuracy = accuracy_score(y_labels, pred_classes)\n",
        "sklearn_accuracy"
      ],
      "execution_count": 28,
      "outputs": [
        {
          "output_type": "execute_result",
          "data": {
            "text/plain": [
              "0.7614213197969543"
            ]
          },
          "metadata": {},
          "execution_count": 28
        }
      ]
    },
    {
      "cell_type": "code",
      "metadata": {
        "colab": {
          "base_uri": "https://localhost:8080/"
        },
        "id": "OaWUkBHmAwOz",
        "outputId": "0c521cd9-b7f9-4468-b44f-207af6ee0470"
      },
      "source": [
        "# Does the evaluate method compare to the Scikit-Learn measured accuracy?\n",
        "import numpy as np\n",
        "print(f\"Close? {np.isclose(loaded_accuracy, sklearn_accuracy)} | Difference: {loaded_accuracy - sklearn_accuracy}\")"
      ],
      "execution_count": 29,
      "outputs": [
        {
          "output_type": "stream",
          "name": "stdout",
          "text": [
            "Close? True | Difference: 3.0256165350905917e-09\n"
          ]
        }
      ]
    },
    {
      "cell_type": "code",
      "metadata": {
        "id": "P3AKdjqDAyiB"
      },
      "source": [
        "# We'll import our make_confusion_matrix function from https://github.com/mrdbourke/tensorflow-deep-learning/blob/main/extras/helper_functions.py \n",
        "# But if you run it out of the box, it doesn't really work for 101 classes...\n",
        "# the cell below adds a little functionality to make it readable.\n",
        "from helper_functions import make_confusion_matrix"
      ],
      "execution_count": 30,
      "outputs": []
    },
    {
      "cell_type": "code",
      "metadata": {
        "id": "follwcsFBPhZ"
      },
      "source": [
        "# Note: The following confusion matrix code is a remix of Scikit-Learn's \n",
        "# plot_confusion_matrix function - https://scikit-learn.org/stable/modules/generated/sklearn.metrics.plot_confusion_matrix.html\n",
        "import itertools\n",
        "import matplotlib.pyplot as plt\n",
        "import numpy as np\n",
        "from sklearn.metrics import confusion_matrix\n",
        "\n",
        "# Our function needs a different name to sklearn's plot_confusion_matrix\n",
        "def make_confusion_matrix(y_true, y_pred, classes=None, figsize=(10, 10), text_size=15, norm=False, savefig=False): \n",
        "  \"\"\"Makes a labelled confusion matrix comparing predictions and ground truth labels.\n",
        "\n",
        "  If classes is passed, confusion matrix will be labelled, if not, integer class values\n",
        "  will be used.\n",
        "\n",
        "  Args:\n",
        "    y_true: Array of truth labels (must be same shape as y_pred).\n",
        "    y_pred: Array of predicted labels (must be same shape as y_true).\n",
        "    classes: Array of class labels (e.g. string form). If `None`, integer labels are used.\n",
        "    figsize: Size of output figure (default=(10, 10)).\n",
        "    text_size: Size of output figure text (default=15).\n",
        "    norm: normalize values or not (default=False).\n",
        "    savefig: save confusion matrix to file (default=False).\n",
        "  \n",
        "  Returns:\n",
        "    A labelled confusion matrix plot comparing y_true and y_pred.\n",
        "\n",
        "  Example usage:\n",
        "    make_confusion_matrix(y_true=test_labels, # ground truth test labels\n",
        "                          y_pred=y_preds, # predicted labels\n",
        "                          classes=class_names, # array of class label names\n",
        "                          figsize=(15, 15),\n",
        "                          text_size=10)\n",
        "  \"\"\"  \n",
        "  # Create the confustion matrix\n",
        "  cm = confusion_matrix(y_true, y_pred)\n",
        "  cm_norm = cm.astype(\"float\") / cm.sum(axis=1)[:, np.newaxis] # normalize it\n",
        "  n_classes = cm.shape[0] # find the number of classes we're dealing with\n",
        "\n",
        "  # Plot the figure and make it pretty\n",
        "  fig, ax = plt.subplots(figsize=figsize)\n",
        "  cax = ax.matshow(cm, cmap=plt.cm.Blues) # colors will represent how 'correct' a class is, darker == better\n",
        "  fig.colorbar(cax)\n",
        "\n",
        "  # Are there a list of classes?\n",
        "  if classes:\n",
        "    labels = classes\n",
        "  else:\n",
        "    labels = np.arange(cm.shape[0])\n",
        "  \n",
        "  # Label the axes\n",
        "  ax.set(title=\"Confusion Matrix\",\n",
        "         xlabel=\"Predicted label\",\n",
        "         ylabel=\"True label\",\n",
        "         xticks=np.arange(n_classes), # create enough axis slots for each class\n",
        "         yticks=np.arange(n_classes), \n",
        "         xticklabels=labels, # axes will labeled with class names (if they exist) or ints\n",
        "         yticklabels=labels)\n",
        "  \n",
        "  # Make x-axis labels appear on bottom\n",
        "  ax.xaxis.set_label_position(\"bottom\")\n",
        "  ax.xaxis.tick_bottom()\n",
        "\n",
        "  ### Added: Rotate xticks for readability & increase font size (required due to such a large confusion matrix)\n",
        "  plt.xticks(rotation=70, fontsize=text_size)\n",
        "  plt.yticks(fontsize=text_size)\n",
        "\n",
        "  # Set the threshold for different colors\n",
        "  threshold = (cm.max() + cm.min()) / 2.\n",
        "\n",
        "  # Plot the text on each cell\n",
        "  for i, j in itertools.product(range(cm.shape[0]), range(cm.shape[1])):\n",
        "    if norm:\n",
        "      plt.text(j, i, f\"{cm[i, j]} ({cm_norm[i, j]*100:.1f}%)\",\n",
        "              horizontalalignment=\"center\",\n",
        "              color=\"white\" if cm[i, j] > threshold else \"black\",\n",
        "              size=text_size)\n",
        "    else:\n",
        "      plt.text(j, i, f\"{cm[i, j]}\",\n",
        "              horizontalalignment=\"center\",\n",
        "              color=\"white\" if cm[i, j] > threshold else \"black\",\n",
        "              size=text_size)\n",
        "\n",
        "  # Save the figure to the current working directory\n",
        "  if savefig:\n",
        "    fig.savefig(\"confusion_matrix.png\")"
      ],
      "execution_count": 31,
      "outputs": []
    },
    {
      "cell_type": "code",
      "metadata": {
        "colab": {
          "base_uri": "https://localhost:8080/"
        },
        "id": "fOj3MJFCBQJC",
        "outputId": "ad93c146-d4cc-4dd1-9c30-433b6b1b583a"
      },
      "source": [
        "# Get the class names\n",
        "class_names = test_data.class_names\n",
        "class_names"
      ],
      "execution_count": 32,
      "outputs": [
        {
          "output_type": "execute_result",
          "data": {
            "text/plain": [
              "['glioma_tumor', 'meningioma_tumor', 'no_tumor', 'pituitary_tumor']"
            ]
          },
          "metadata": {},
          "execution_count": 32
        }
      ]
    },
    {
      "cell_type": "code",
      "metadata": {
        "colab": {
          "base_uri": "https://localhost:8080/",
          "height": 691
        },
        "id": "I5DNN8ATBRuU",
        "outputId": "605f2237-b958-4615-ea88-d6b33f6b7ba7"
      },
      "source": [
        "# Plot a confusion matrix with all 25250 predictions, ground truth labels and 101 classes\n",
        "make_confusion_matrix(y_true=y_labels,\n",
        "                      y_pred=pred_classes,\n",
        "                      classes=class_names,\n",
        "                      figsize=(10, 10),\n",
        "                      text_size=15,\n",
        "                      norm=False,\n",
        "                      savefig=True)"
      ],
      "execution_count": 33,
      "outputs": [
        {
          "output_type": "display_data",
          "data": {
            "image/png": "[encoded data removed]",
            "text/plain": [
              "<Figure size 720x720 with 2 Axes>"
            ]
          },
          "metadata": {
            "needs_background": "light"
          }
        }
      ]
    },
    {
      "cell_type": "code",
      "metadata": {
        "colab": {
          "base_uri": "https://localhost:8080/",
          "height": 573
        },
        "id": "Nzy9I9YXBgNz",
        "outputId": "05f21061-74ee-4521-94f7-e737e60c85f5"
      },
      "source": [
        "plot_loss_curves(history_efficientnetb0)"
      ],
      "execution_count": 34,
      "outputs": [
        {
          "output_type": "display_data",
          "data": {
            "image/png": "[encoded data removed]",
            "text/plain": [
              "<Figure size 432x288 with 1 Axes>"
            ]
          },
          "metadata": {
            "needs_background": "light"
          }
        },
        {
          "output_type": "display_data",
          "data": {
            "image/png": "[encoded data removed]",
            "text/plain": [
              "<Figure size 432x288 with 1 Axes>"
            ]
          },
          "metadata": {
            "needs_background": "light"
          }
        }
      ]
    },
    {
      "cell_type": "code",
      "metadata": {
        "colab": {
          "base_uri": "https://localhost:8080/"
        },
        "id": "3vtNsgtdBiiK",
        "outputId": "ea0bcfb0-a346-4741-aa59-eb298c3ed73f"
      },
      "source": [
        "from sklearn.metrics import classification_report\n",
        "print(classification_report(y_labels, pred_classes))"
      ],
      "execution_count": 35,
      "outputs": [
        {
          "output_type": "stream",
          "name": "stdout",
          "text": [
            "              precision    recall  f1-score   support\n",
            "\n",
            "           0       1.00      0.23      0.37       100\n",
            "           1       0.80      0.93      0.86       115\n",
            "           2       0.69      1.00      0.81       105\n",
            "           3       0.77      0.88      0.82        74\n",
            "\n",
            "    accuracy                           0.76       394\n",
            "   macro avg       0.81      0.76      0.72       394\n",
            "weighted avg       0.82      0.76      0.72       394\n",
            "\n"
          ]
        }
      ]
    },
    {
      "cell_type": "code",
      "metadata": {
        "colab": {
          "base_uri": "https://localhost:8080/"
        },
        "id": "Sk8Z0XJBBnnV",
        "outputId": "25917122-2a2f-41fe-8552-cb7c8f31effe"
      },
      "source": [
        "# Get a dictionary of the classification report\n",
        "classification_report_dict = classification_report(y_labels, pred_classes, output_dict=True)\n",
        "classification_report_dict"
      ],
      "execution_count": 36,
      "outputs": [
        {
          "output_type": "execute_result",
          "data": {
            "text/plain": [
              "{'0': {'f1-score': 0.3739837398373984,\n",
              "  'precision': 1.0,\n",
              "  'recall': 0.23,\n",
              "  'support': 100},\n",
              " '1': {'f1-score': 0.8594377510040161,\n",
              "  'precision': 0.7985074626865671,\n",
              "  'recall': 0.9304347826086956,\n",
              "  'support': 115},\n",
              " '2': {'f1-score': 0.813953488372093,\n",
              "  'precision': 0.6862745098039216,\n",
              "  'recall': 1.0,\n",
              "  'support': 105},\n",
              " '3': {'f1-score': 0.8227848101265823,\n",
              "  'precision': 0.7738095238095238,\n",
              "  'recall': 0.8783783783783784,\n",
              "  'support': 74},\n",
              " 'accuracy': 0.7614213197969543,\n",
              " 'macro avg': {'f1-score': 0.7175399473350225,\n",
              "  'precision': 0.8146478740750032,\n",
              "  'recall': 0.7597032902467685,\n",
              "  'support': 394},\n",
              " 'weighted avg': {'f1-score': 0.7172205776082197,\n",
              "  'precision': 0.8150992043154105,\n",
              "  'recall': 0.7614213197969543,\n",
              "  'support': 394}}"
            ]
          },
          "metadata": {},
          "execution_count": 36
        }
      ]
    },
    {
      "cell_type": "code",
      "metadata": {
        "colab": {
          "base_uri": "https://localhost:8080/"
        },
        "id": "nbLK25gEBpyL",
        "outputId": "cd85c626-18a3-4b4e-b7b6-df2f61e22d04"
      },
      "source": [
        "# Create empty dictionary\n",
        "class_f1_scores = {}\n",
        "# Loop through classification report items\n",
        "for k, v in classification_report_dict.items():\n",
        "  if k == \"accuracy\": # stop once we get to accuracy key\n",
        "    break\n",
        "  else:\n",
        "    # Append class names and f1-scores to new dictionary\n",
        "    class_f1_scores[class_names[int(k)]] = v[\"f1-score\"]\n",
        "class_f1_scores"
      ],
      "execution_count": 37,
      "outputs": [
        {
          "output_type": "execute_result",
          "data": {
            "text/plain": [
              "{'glioma_tumor': 0.3739837398373984,\n",
              " 'meningioma_tumor': 0.8594377510040161,\n",
              " 'no_tumor': 0.813953488372093,\n",
              " 'pituitary_tumor': 0.8227848101265823}"
            ]
          },
          "metadata": {},
          "execution_count": 37
        }
      ]
    },
    {
      "cell_type": "code",
      "metadata": {
        "colab": {
          "base_uri": "https://localhost:8080/",
          "height": 175
        },
        "id": "emzfQ41HBsSf",
        "outputId": "7e254eb2-4c0b-435a-c327-ce3eb7fd0a6a"
      },
      "source": [
        "# Turn f1-scores into dataframe for visualization\n",
        "import pandas as pd\n",
        "f1_scores = pd.DataFrame({\"class_name\": list(class_f1_scores.keys()),\n",
        "                          \"f1-score\": list(class_f1_scores.values())}).sort_values(\"f1-score\", ascending=False)\n",
        "f1_scores"
      ],
      "execution_count": 38,
      "outputs": [
        {
          "output_type": "execute_result",
          "data": {
            "text/html": [
              "<div>\n",
              "<style scoped>\n",
              "    .dataframe tbody tr th:only-of-type {\n",
              "        vertical-align: middle;\n",
              "    }\n",
              "\n",
              "    .dataframe tbody tr th {\n",
              "        vertical-align: top;\n",
              "    }\n",
              "\n",
              "    .dataframe thead th {\n",
              "        text-align: right;\n",
              "    }\n",
              "</style>\n",
              "<table border=\"1\" class=\"dataframe\">\n",
              "  <thead>\n",
              "    <tr style=\"text-align: right;\">\n",
              "      <th></th>\n",
              "      <th>class_name</th>\n",
              "      <th>f1-score</th>\n",
              "    </tr>\n",
              "  </thead>\n",
              "  <tbody>\n",
              "    <tr>\n",
              "      <th>1</th>\n",
              "      <td>meningioma_tumor</td>\n",
              "      <td>0.859438</td>\n",
              "    </tr>\n",
              "    <tr>\n",
              "      <th>3</th>\n",
              "      <td>pituitary_tumor</td>\n",
              "      <td>0.822785</td>\n",
              "    </tr>\n",
              "    <tr>\n",
              "      <th>2</th>\n",
              "      <td>no_tumor</td>\n",
              "      <td>0.813953</td>\n",
              "    </tr>\n",
              "    <tr>\n",
              "      <th>0</th>\n",
              "      <td>glioma_tumor</td>\n",
              "      <td>0.373984</td>\n",
              "    </tr>\n",
              "  </tbody>\n",
              "</table>\n",
              "</div>"
            ],
            "text/plain": [
              "         class_name  f1-score\n",
              "1  meningioma_tumor  0.859438\n",
              "3   pituitary_tumor  0.822785\n",
              "2          no_tumor  0.813953\n",
              "0      glioma_tumor  0.373984"
            ]
          },
          "metadata": {},
          "execution_count": 38
        }
      ]
    },
    {
      "cell_type": "code",
      "metadata": {
        "colab": {
          "base_uri": "https://localhost:8080/",
          "height": 1000
        },
        "id": "ptMlrSx5Bt-H",
        "outputId": "a0fae825-b478-42cc-e9dc-27603736c51d"
      },
      "source": [
        "import matplotlib.pyplot as plt\n",
        "\n",
        "fig, ax = plt.subplots(figsize=(12, 25))\n",
        "scores = ax.barh(range(len(f1_scores)), f1_scores[\"f1-score\"].values)\n",
        "ax.set_yticks(range(len(f1_scores)))\n",
        "ax.set_yticklabels(list(f1_scores[\"class_name\"]))\n",
        "ax.set_xlabel(\"f1-score\")\n",
        "ax.set_title(\"F1-Scores for 4 Different Classes for EfficientnetB0\")\n",
        "ax.invert_yaxis(); # reverse the order\n",
        "\n",
        "def autolabel(rects): # Modified version of: https://matplotlib.org/examples/api/barchart_demo.html\n",
        "  \"\"\"\n",
        "  Attach a text label above each bar displaying its height (it's value).\n",
        "  \"\"\"\n",
        "  for rect in rects:\n",
        "    width = rect.get_width()\n",
        "    ax.text(1.0*width, rect.get_y() + rect.get_height()/1.5,\n",
        "            f\"{width:.2f}\",\n",
        "            ha='center', va='bottom')\n",
        "\n",
        "autolabel(scores)"
      ],
      "execution_count": 39,
      "outputs": [
        {
          "output_type": "display_data",
          "data": {
            "image/png": "[encoded data removed]",
            "text/plain": [
              "<Figure size 864x1800 with 1 Axes>"
            ]
          },
          "metadata": {
            "needs_background": "light"
          }
        }
      ]
    },
    {
      "cell_type": "markdown",
      "metadata": {
        "id": "x6wY4kIZCJPf"
      },
      "source": [
        "# MobileNetV3Small (Fully Trainable)"
      ]
    },
    {
      "cell_type": "code",
      "metadata": {
        "colab": {
          "base_uri": "https://localhost:8080/"
        },
        "id": "RG9K-RR9lyJy",
        "outputId": "163f5a00-daeb-4b63-8426-cb85f967b299"
      },
      "source": [
        "# Setup base model and freeze its layers (this will extract features)\n",
        "base_model_2 = tf.keras.applications.MobileNetV3Small(include_top=False)\n",
        "base_model_2.trainable = False\n",
        "\n",
        "# Setup model architecture with trainable top layers\n",
        "inputs = layers.Input(shape=(224, 224, 3), name=\"input_layer\") # shape of input image\n",
        "x = data_augmentation(inputs) # augment images (only happens during training)\n",
        "x = base_model_2(x, training=False) # put the base model in inference mode so we can use it to extract features without updating the weights\n",
        "x = layers.GlobalAveragePooling2D(name=\"global_average_pooling\")(x) # pool the outputs of the base model\n",
        "outputs = layers.Dense(len(train_data.class_names), activation=\"softmax\", name=\"output_layer\")(x) # same number of outputs as classes\n",
        "model_mobilenetv3 = tf.keras.Model(inputs, outputs)"
      ],
      "execution_count": 45,
      "outputs": [
        {
          "output_type": "stream",
          "name": "stdout",
          "text": [
            "WARNING:tensorflow:`input_shape` is undefined or non-square, or `rows` is not 224. Weights for input shape (224, 224) will be loaded as the default.\n"
          ]
        }
      ]
    },
    {
      "cell_type": "code",
      "metadata": {
        "colab": {
          "base_uri": "https://localhost:8080/"
        },
        "id": "mHh9jdqnmBl9",
        "outputId": "d68f41bd-5318-417e-a895-ca7a313e90fb"
      },
      "source": [
        "# Get a summary of our model\n",
        "model_mobilenetv3.summary()"
      ],
      "execution_count": 46,
      "outputs": [
        {
          "output_type": "stream",
          "name": "stdout",
          "text": [
            "Model: \"model_2\"\n",
            "_________________________________________________________________\n",
            "Layer (type)                 Output Shape              Param #   \n",
            "=================================================================\n",
            "input_layer (InputLayer)     [(None, 224, 224, 3)]     0         \n",
            "_________________________________________________________________\n",
            "data_augmentation (Sequentia (None, None, None, 3)     0         \n",
            "_________________________________________________________________\n",
            "MobilenetV3small (Functional (None, 1, 1, 1024)        1529968   \n",
            "_________________________________________________________________\n",
            "global_average_pooling (Glob (None, 1024)              0         \n",
            "_________________________________________________________________\n",
            "output_layer (Dense)         (None, 4)                 4100      \n",
            "=================================================================\n",
            "Total params: 1,534,068\n",
            "Trainable params: 4,100\n",
            "Non-trainable params: 1,529,968\n",
            "_________________________________________________________________\n"
          ]
        }
      ]
    },
    {
      "cell_type": "code",
      "metadata": {
        "id": "EdWQYdtJmDyp"
      },
      "source": [
        "# Unfreeze all of the layers in the base model\n",
        "base_model_2.trainable = True\n",
        "\n"
      ],
      "execution_count": 50,
      "outputs": []
    },
    {
      "cell_type": "code",
      "metadata": {
        "id": "QL-Q_ju7mPkX"
      },
      "source": [
        "# Recompile model with lower learning rate\n",
        "model_mobilenetv3.compile(loss='categorical_crossentropy',\n",
        "              optimizer=tf.keras.optimizers.Adam(1e-4), # 10x lower learning rate than default\n",
        "              metrics=['accuracy'])"
      ],
      "execution_count": 51,
      "outputs": []
    },
    {
      "cell_type": "code",
      "metadata": {
        "colab": {
          "base_uri": "https://localhost:8080/"
        },
        "id": "xcf3cAVnmWv_",
        "outputId": "4bd06c68-8ee0-4d18-89d0-ecc3deeace6d"
      },
      "source": [
        "# What layers in the model are trainable?\n",
        "for layer in model_mobilenetv3.layers:\n",
        "  print(layer.name, layer.trainable)"
      ],
      "execution_count": 52,
      "outputs": [
        {
          "output_type": "stream",
          "name": "stdout",
          "text": [
            "input_layer True\n",
            "data_augmentation True\n",
            "MobilenetV3small True\n",
            "global_average_pooling True\n",
            "output_layer True\n"
          ]
        }
      ]
    },
    {
      "cell_type": "code",
      "metadata": {
        "colab": {
          "base_uri": "https://localhost:8080/"
        },
        "id": "ljOIeezgnGO6",
        "outputId": "d10329a3-9078-481d-bbc3-bd78f18669ee"
      },
      "source": [
        "# Check which layers are trainable\n",
        "for layer_number, layer in enumerate(base_model_2.layers):\n",
        "  print(layer_number, layer.name, layer.trainable)"
      ],
      "execution_count": 53,
      "outputs": [
        {
          "output_type": "stream",
          "name": "stdout",
          "text": [
            "0 input_3 True\n",
            "1 rescaling_2 True\n",
            "2 Conv True\n",
            "3 Conv/BatchNorm True\n",
            "4 tf.__operators__.add_28 True\n",
            "5 re_lu_33 True\n",
            "6 tf.math.multiply_28 True\n",
            "7 multiply_19 True\n",
            "8 expanded_conv/depthwise/pad True\n",
            "9 expanded_conv/depthwise True\n",
            "10 expanded_conv/depthwise/BatchNorm True\n",
            "11 re_lu_34 True\n",
            "12 expanded_conv/squeeze_excite/AvgPool True\n",
            "13 expanded_conv/squeeze_excite/Conv True\n",
            "14 expanded_conv/squeeze_excite/Relu True\n",
            "15 expanded_conv/squeeze_excite/Conv_1 True\n",
            "16 tf.__operators__.add_29 True\n",
            "17 re_lu_35 True\n",
            "18 tf.math.multiply_29 True\n",
            "19 expanded_conv/squeeze_excite/Mul True\n",
            "20 expanded_conv/project True\n",
            "21 expanded_conv/project/BatchNorm True\n",
            "22 expanded_conv_1/expand True\n",
            "23 expanded_conv_1/expand/BatchNorm True\n",
            "24 re_lu_36 True\n",
            "25 expanded_conv_1/depthwise/pad True\n",
            "26 expanded_conv_1/depthwise True\n",
            "27 expanded_conv_1/depthwise/BatchNorm True\n",
            "28 re_lu_37 True\n",
            "29 expanded_conv_1/project True\n",
            "30 expanded_conv_1/project/BatchNorm True\n",
            "31 expanded_conv_2/expand True\n",
            "32 expanded_conv_2/expand/BatchNorm True\n",
            "33 re_lu_38 True\n",
            "34 expanded_conv_2/depthwise True\n",
            "35 expanded_conv_2/depthwise/BatchNorm True\n",
            "36 re_lu_39 True\n",
            "37 expanded_conv_2/project True\n",
            "38 expanded_conv_2/project/BatchNorm True\n",
            "39 expanded_conv_2/Add True\n",
            "40 expanded_conv_3/expand True\n",
            "41 expanded_conv_3/expand/BatchNorm True\n",
            "42 tf.__operators__.add_30 True\n",
            "43 re_lu_40 True\n",
            "44 tf.math.multiply_30 True\n",
            "45 multiply_20 True\n",
            "46 expanded_conv_3/depthwise/pad True\n",
            "47 expanded_conv_3/depthwise True\n",
            "48 expanded_conv_3/depthwise/BatchNorm True\n",
            "49 tf.__operators__.add_31 True\n",
            "50 re_lu_41 True\n",
            "51 tf.math.multiply_31 True\n",
            "52 multiply_21 True\n",
            "53 expanded_conv_3/squeeze_excite/AvgPool True\n",
            "54 expanded_conv_3/squeeze_excite/Conv True\n",
            "55 expanded_conv_3/squeeze_excite/Relu True\n",
            "56 expanded_conv_3/squeeze_excite/Conv_1 True\n",
            "57 tf.__operators__.add_32 True\n",
            "58 re_lu_42 True\n",
            "59 tf.math.multiply_32 True\n",
            "60 expanded_conv_3/squeeze_excite/Mul True\n",
            "61 expanded_conv_3/project True\n",
            "62 expanded_conv_3/project/BatchNorm True\n",
            "63 expanded_conv_4/expand True\n",
            "64 expanded_conv_4/expand/BatchNorm True\n",
            "65 tf.__operators__.add_33 True\n",
            "66 re_lu_43 True\n",
            "67 tf.math.multiply_33 True\n",
            "68 multiply_22 True\n",
            "69 expanded_conv_4/depthwise True\n",
            "70 expanded_conv_4/depthwise/BatchNorm True\n",
            "71 tf.__operators__.add_34 True\n",
            "72 re_lu_44 True\n",
            "73 tf.math.multiply_34 True\n",
            "74 multiply_23 True\n",
            "75 expanded_conv_4/squeeze_excite/AvgPool True\n",
            "76 expanded_conv_4/squeeze_excite/Conv True\n",
            "77 expanded_conv_4/squeeze_excite/Relu True\n",
            "78 expanded_conv_4/squeeze_excite/Conv_1 True\n",
            "79 tf.__operators__.add_35 True\n",
            "80 re_lu_45 True\n",
            "81 tf.math.multiply_35 True\n",
            "82 expanded_conv_4/squeeze_excite/Mul True\n",
            "83 expanded_conv_4/project True\n",
            "84 expanded_conv_4/project/BatchNorm True\n",
            "85 expanded_conv_4/Add True\n",
            "86 expanded_conv_5/expand True\n",
            "87 expanded_conv_5/expand/BatchNorm True\n",
            "88 tf.__operators__.add_36 True\n",
            "89 re_lu_46 True\n",
            "90 tf.math.multiply_36 True\n",
            "91 multiply_24 True\n",
            "92 expanded_conv_5/depthwise True\n",
            "93 expanded_conv_5/depthwise/BatchNorm True\n",
            "94 tf.__operators__.add_37 True\n",
            "95 re_lu_47 True\n",
            "96 tf.math.multiply_37 True\n",
            "97 multiply_25 True\n",
            "98 expanded_conv_5/squeeze_excite/AvgPool True\n",
            "99 expanded_conv_5/squeeze_excite/Conv True\n",
            "100 expanded_conv_5/squeeze_excite/Relu True\n",
            "101 expanded_conv_5/squeeze_excite/Conv_1 True\n",
            "102 tf.__operators__.add_38 True\n",
            "103 re_lu_48 True\n",
            "104 tf.math.multiply_38 True\n",
            "105 expanded_conv_5/squeeze_excite/Mul True\n",
            "106 expanded_conv_5/project True\n",
            "107 expanded_conv_5/project/BatchNorm True\n",
            "108 expanded_conv_5/Add True\n",
            "109 expanded_conv_6/expand True\n",
            "110 expanded_conv_6/expand/BatchNorm True\n",
            "111 tf.__operators__.add_39 True\n",
            "112 re_lu_49 True\n",
            "113 tf.math.multiply_39 True\n",
            "114 multiply_26 True\n",
            "115 expanded_conv_6/depthwise True\n",
            "116 expanded_conv_6/depthwise/BatchNorm True\n",
            "117 tf.__operators__.add_40 True\n",
            "118 re_lu_50 True\n",
            "119 tf.math.multiply_40 True\n",
            "120 multiply_27 True\n",
            "121 expanded_conv_6/squeeze_excite/AvgPool True\n",
            "122 expanded_conv_6/squeeze_excite/Conv True\n",
            "123 expanded_conv_6/squeeze_excite/Relu True\n",
            "124 expanded_conv_6/squeeze_excite/Conv_1 True\n",
            "125 tf.__operators__.add_41 True\n",
            "126 re_lu_51 True\n",
            "127 tf.math.multiply_41 True\n",
            "128 expanded_conv_6/squeeze_excite/Mul True\n",
            "129 expanded_conv_6/project True\n",
            "130 expanded_conv_6/project/BatchNorm True\n",
            "131 expanded_conv_7/expand True\n",
            "132 expanded_conv_7/expand/BatchNorm True\n",
            "133 tf.__operators__.add_42 True\n",
            "134 re_lu_52 True\n",
            "135 tf.math.multiply_42 True\n",
            "136 multiply_28 True\n",
            "137 expanded_conv_7/depthwise True\n",
            "138 expanded_conv_7/depthwise/BatchNorm True\n",
            "139 tf.__operators__.add_43 True\n",
            "140 re_lu_53 True\n",
            "141 tf.math.multiply_43 True\n",
            "142 multiply_29 True\n",
            "143 expanded_conv_7/squeeze_excite/AvgPool True\n",
            "144 expanded_conv_7/squeeze_excite/Conv True\n",
            "145 expanded_conv_7/squeeze_excite/Relu True\n",
            "146 expanded_conv_7/squeeze_excite/Conv_1 True\n",
            "147 tf.__operators__.add_44 True\n",
            "148 re_lu_54 True\n",
            "149 tf.math.multiply_44 True\n",
            "150 expanded_conv_7/squeeze_excite/Mul True\n",
            "151 expanded_conv_7/project True\n",
            "152 expanded_conv_7/project/BatchNorm True\n",
            "153 expanded_conv_7/Add True\n",
            "154 expanded_conv_8/expand True\n",
            "155 expanded_conv_8/expand/BatchNorm True\n",
            "156 tf.__operators__.add_45 True\n",
            "157 re_lu_55 True\n",
            "158 tf.math.multiply_45 True\n",
            "159 multiply_30 True\n",
            "160 expanded_conv_8/depthwise/pad True\n",
            "161 expanded_conv_8/depthwise True\n",
            "162 expanded_conv_8/depthwise/BatchNorm True\n",
            "163 tf.__operators__.add_46 True\n",
            "164 re_lu_56 True\n",
            "165 tf.math.multiply_46 True\n",
            "166 multiply_31 True\n",
            "167 expanded_conv_8/squeeze_excite/AvgPool True\n",
            "168 expanded_conv_8/squeeze_excite/Conv True\n",
            "169 expanded_conv_8/squeeze_excite/Relu True\n",
            "170 expanded_conv_8/squeeze_excite/Conv_1 True\n",
            "171 tf.__operators__.add_47 True\n",
            "172 re_lu_57 True\n",
            "173 tf.math.multiply_47 True\n",
            "174 expanded_conv_8/squeeze_excite/Mul True\n",
            "175 expanded_conv_8/project True\n",
            "176 expanded_conv_8/project/BatchNorm True\n",
            "177 expanded_conv_9/expand True\n",
            "178 expanded_conv_9/expand/BatchNorm True\n",
            "179 tf.__operators__.add_48 True\n",
            "180 re_lu_58 True\n",
            "181 tf.math.multiply_48 True\n",
            "182 multiply_32 True\n",
            "183 expanded_conv_9/depthwise True\n",
            "184 expanded_conv_9/depthwise/BatchNorm True\n",
            "185 tf.__operators__.add_49 True\n",
            "186 re_lu_59 True\n",
            "187 tf.math.multiply_49 True\n",
            "188 multiply_33 True\n",
            "189 expanded_conv_9/squeeze_excite/AvgPool True\n",
            "190 expanded_conv_9/squeeze_excite/Conv True\n",
            "191 expanded_conv_9/squeeze_excite/Relu True\n",
            "192 expanded_conv_9/squeeze_excite/Conv_1 True\n",
            "193 tf.__operators__.add_50 True\n",
            "194 re_lu_60 True\n",
            "195 tf.math.multiply_50 True\n",
            "196 expanded_conv_9/squeeze_excite/Mul True\n",
            "197 expanded_conv_9/project True\n",
            "198 expanded_conv_9/project/BatchNorm True\n",
            "199 expanded_conv_9/Add True\n",
            "200 expanded_conv_10/expand True\n",
            "201 expanded_conv_10/expand/BatchNorm True\n",
            "202 tf.__operators__.add_51 True\n",
            "203 re_lu_61 True\n",
            "204 tf.math.multiply_51 True\n",
            "205 multiply_34 True\n",
            "206 expanded_conv_10/depthwise True\n",
            "207 expanded_conv_10/depthwise/BatchNorm True\n",
            "208 tf.__operators__.add_52 True\n",
            "209 re_lu_62 True\n",
            "210 tf.math.multiply_52 True\n",
            "211 multiply_35 True\n",
            "212 expanded_conv_10/squeeze_excite/AvgPool True\n",
            "213 expanded_conv_10/squeeze_excite/Conv True\n",
            "214 expanded_conv_10/squeeze_excite/Relu True\n",
            "215 expanded_conv_10/squeeze_excite/Conv_1 True\n",
            "216 tf.__operators__.add_53 True\n",
            "217 re_lu_63 True\n",
            "218 tf.math.multiply_53 True\n",
            "219 expanded_conv_10/squeeze_excite/Mul True\n",
            "220 expanded_conv_10/project True\n",
            "221 expanded_conv_10/project/BatchNorm True\n",
            "222 expanded_conv_10/Add True\n",
            "223 Conv_1 True\n",
            "224 Conv_1/BatchNorm True\n",
            "225 tf.__operators__.add_54 True\n",
            "226 re_lu_64 True\n",
            "227 tf.math.multiply_54 True\n",
            "228 multiply_36 True\n",
            "229 global_average_pooling2d_1 True\n",
            "230 Conv_2 True\n",
            "231 tf.__operators__.add_55 True\n",
            "232 re_lu_65 True\n",
            "233 tf.math.multiply_55 True\n",
            "234 multiply_37 True\n"
          ]
        }
      ]
    },
    {
      "cell_type": "code",
      "metadata": {
        "colab": {
          "base_uri": "https://localhost:8080/"
        },
        "id": "xj16pgIJnUE4",
        "outputId": "e13b8ed3-06b6-4270-a4eb-d4dc3c915ebc"
      },
      "source": [
        "# Train for 10 epochs\n",
        "epochs = 10 \n",
        "\n",
        "history_mobilenetv3 = model_mobilenetv3.fit(train_data,\n",
        "                      epochs=epochs,\n",
        "                      validation_data=test_data,\n",
        "                      validation_steps=int(len(test_data)))"
      ],
      "execution_count": 54,
      "outputs": [
        {
          "output_type": "stream",
          "name": "stdout",
          "text": [
            "Epoch 1/10\n",
            "90/90 [==============================] - 51s 480ms/step - loss: 0.7020 - accuracy: 0.7139 - val_loss: 1.1785 - val_accuracy: 0.5838\n",
            "Epoch 2/10\n",
            "90/90 [==============================] - 31s 336ms/step - loss: 0.3675 - accuracy: 0.8540 - val_loss: 1.2860 - val_accuracy: 0.6015\n",
            "Epoch 3/10\n",
            "90/90 [==============================] - 26s 283ms/step - loss: 0.2987 - accuracy: 0.8840 - val_loss: 1.0942 - val_accuracy: 0.6878\n",
            "Epoch 4/10\n",
            "90/90 [==============================] - 25s 270ms/step - loss: 0.2432 - accuracy: 0.9080 - val_loss: 1.3627 - val_accuracy: 0.6827\n",
            "Epoch 5/10\n",
            "90/90 [==============================] - 24s 256ms/step - loss: 0.1953 - accuracy: 0.9275 - val_loss: 1.0555 - val_accuracy: 0.7132\n",
            "Epoch 6/10\n",
            "90/90 [==============================] - 22s 239ms/step - loss: 0.1972 - accuracy: 0.9240 - val_loss: 1.5634 - val_accuracy: 0.6954\n",
            "Epoch 7/10\n",
            "90/90 [==============================] - 22s 237ms/step - loss: 0.1660 - accuracy: 0.9390 - val_loss: 1.5329 - val_accuracy: 0.7234\n",
            "Epoch 8/10\n",
            "90/90 [==============================] - 21s 233ms/step - loss: 0.1340 - accuracy: 0.9474 - val_loss: 1.7498 - val_accuracy: 0.7157\n",
            "Epoch 9/10\n",
            "90/90 [==============================] - 21s 225ms/step - loss: 0.1236 - accuracy: 0.9519 - val_loss: 1.7647 - val_accuracy: 0.7310\n",
            "Epoch 10/10\n",
            "90/90 [==============================] - 20s 220ms/step - loss: 0.1324 - accuracy: 0.9498 - val_loss: 1.8506 - val_accuracy: 0.7335\n"
          ]
        }
      ]
    },
    {
      "cell_type": "code",
      "metadata": {
        "colab": {
          "base_uri": "https://localhost:8080/"
        },
        "id": "jySgpuZ1o0AX",
        "outputId": "6d1fbe70-dcc9-464b-e4c6-dd29fe7f8f2f"
      },
      "source": [
        "# Save model to drive so it can be used later \n",
        "model_mobilenetv3.save(\"drive/My Drive/Brain_Tumor_Data/mobilenetv3_model.h5\")"
      ],
      "execution_count": 55,
      "outputs": [
        {
          "output_type": "stream",
          "name": "stderr",
          "text": [
            "/usr/local/lib/python3.7/dist-packages/keras/utils/generic_utils.py:497: CustomMaskWarning: Custom mask layers require a config and must override get_config. When loading, the custom mask layer must be passed to the custom_objects argument.\n",
            "  category=CustomMaskWarning)\n"
          ]
        }
      ]
    },
    {
      "cell_type": "code",
      "metadata": {
        "colab": {
          "base_uri": "https://localhost:8080/"
        },
        "id": "NFsxqd_-o-Bb",
        "outputId": "a0c256f2-afd4-4ba7-fdd8-37306030eed4"
      },
      "source": [
        "# Evaluate the model\n",
        "loaded_loss_2, loaded_accuracy_2 = model_mobilenetv3.evaluate(test_data)\n",
        "loaded_loss_2, loaded_accuracy_2"
      ],
      "execution_count": 56,
      "outputs": [
        {
          "output_type": "stream",
          "name": "stdout",
          "text": [
            "13/13 [==============================] - 1s 78ms/step - loss: 1.8506 - accuracy: 0.7335\n"
          ]
        },
        {
          "output_type": "execute_result",
          "data": {
            "text/plain": [
              "(1.8505512475967407, 0.7335025668144226)"
            ]
          },
          "metadata": {},
          "execution_count": 56
        }
      ]
    },
    {
      "cell_type": "code",
      "metadata": {
        "colab": {
          "base_uri": "https://localhost:8080/"
        },
        "id": "M5oBx1SkpDlU",
        "outputId": "2e15fba3-5522-42f3-a712-1e53025fdcf1"
      },
      "source": [
        "# Make predictions with model\n",
        "pred_probs_2 = model_mobilenetv3.predict(test_data, verbose=1) # set verbosity to see how long it will take"
      ],
      "execution_count": 57,
      "outputs": [
        {
          "output_type": "stream",
          "name": "stdout",
          "text": [
            "13/13 [==============================] - 2s 70ms/step\n"
          ]
        }
      ]
    },
    {
      "cell_type": "code",
      "metadata": {
        "colab": {
          "base_uri": "https://localhost:8080/"
        },
        "id": "DauebxV5pKab",
        "outputId": "0208cfbe-c55e-4497-dad7-61e0ee314f4c"
      },
      "source": [
        "# How many predictions are there?\n",
        "len(pred_probs_2)"
      ],
      "execution_count": 59,
      "outputs": [
        {
          "output_type": "execute_result",
          "data": {
            "text/plain": [
              "394"
            ]
          },
          "metadata": {},
          "execution_count": 59
        }
      ]
    },
    {
      "cell_type": "code",
      "metadata": {
        "colab": {
          "base_uri": "https://localhost:8080/"
        },
        "id": "3qwoATx_pK9b",
        "outputId": "06580e1b-4d99-4403-ab4d-45f67fba7935"
      },
      "source": [
        "# How do they look?\n",
        "pred_probs_2[:10]"
      ],
      "execution_count": 60,
      "outputs": [
        {
          "output_type": "execute_result",
          "data": {
            "text/plain": [
              "array([[1.4653178e-02, 9.6411884e-01, 5.8775037e-03, 1.5350578e-02],\n",
              "       [5.4814192e-03, 9.3550628e-01, 4.1319773e-02, 1.7692626e-02],\n",
              "       [1.3773730e-04, 9.7519696e-01, 5.2274694e-03, 1.9437829e-02],\n",
              "       [1.1345501e-02, 7.5391960e-01, 1.2996017e-03, 2.3343524e-01],\n",
              "       [1.1345501e-02, 7.5391960e-01, 1.2996017e-03, 2.3343524e-01],\n",
              "       [3.9297802e-06, 9.6522349e-01, 1.2559231e-04, 3.4646984e-02],\n",
              "       [1.0769020e-03, 2.9829621e-01, 7.0022410e-01, 4.0276072e-04],\n",
              "       [1.7338692e-05, 8.5707659e-01, 1.1349676e-01, 2.9409304e-02],\n",
              "       [2.1411230e-05, 9.9012458e-01, 6.1365883e-03, 3.7174670e-03],\n",
              "       [6.1078267e-06, 9.9104148e-01, 7.7319373e-03, 1.2204051e-03]],\n",
              "      dtype=float32)"
            ]
          },
          "metadata": {},
          "execution_count": 60
        }
      ]
    },
    {
      "cell_type": "code",
      "metadata": {
        "colab": {
          "base_uri": "https://localhost:8080/"
        },
        "id": "wGW_dMlLpPkN",
        "outputId": "e8ef73c7-d87b-489c-c39d-9ed212b0652c"
      },
      "source": [
        "# We get one prediction probability per class\n",
        "print(f\"Number of prediction probabilities for sample 0: {len(pred_probs_2[0])}\")\n",
        "print(f\"What prediction probability sample 0 looks like:\\n {pred_probs_2[0]}\")\n",
        "print(f\"The class with the highest predicted probability by the model for sample 0: {pred_probs_2[0].argmax()}\")"
      ],
      "execution_count": 61,
      "outputs": [
        {
          "output_type": "stream",
          "name": "stdout",
          "text": [
            "Number of prediction probabilities for sample 0: 4\n",
            "What prediction probability sample 0 looks like:\n",
            " [0.01465318 0.96411884 0.0058775  0.01535058]\n",
            "The class with the highest predicted probability by the model for sample 0: 1\n"
          ]
        }
      ]
    },
    {
      "cell_type": "code",
      "metadata": {
        "colab": {
          "base_uri": "https://localhost:8080/"
        },
        "id": "csFN1o9vpZcO",
        "outputId": "cf285f3e-a9db-4d10-b456-b559de66723c"
      },
      "source": [
        "# Get the class predicitons of each label\n",
        "pred_classes_2 = pred_probs_2.argmax(axis=1)\n",
        "\n",
        "# How do they look?\n",
        "pred_classes_2[:100]"
      ],
      "execution_count": 62,
      "outputs": [
        {
          "output_type": "execute_result",
          "data": {
            "text/plain": [
              "array([1, 1, 1, 1, 1, 1, 2, 1, 1, 1, 2, 1, 1, 1, 2, 1, 2, 1, 1, 1, 1, 1,\n",
              "       1, 1, 1, 2, 1, 2, 1, 1, 3, 2, 2, 3, 1, 1, 1, 1, 3, 1, 0, 2, 1, 1,\n",
              "       1, 1, 2, 2, 1, 1, 1, 2, 2, 1, 1, 3, 1, 0, 0, 0, 3, 0, 0, 0, 0, 0,\n",
              "       0, 1, 0, 0, 0, 0, 3, 0, 3, 1, 3, 1, 1, 1, 2, 2, 1, 1, 2, 2, 2, 2,\n",
              "       1, 1, 1, 1, 1, 1, 1, 2, 1, 1, 1, 1])"
            ]
          },
          "metadata": {},
          "execution_count": 62
        }
      ]
    },
    {
      "cell_type": "code",
      "metadata": {
        "colab": {
          "base_uri": "https://localhost:8080/"
        },
        "id": "f3FmFcz_pjev",
        "outputId": "90ab5984-d2af-4d08-ab3b-6873585c3c1e"
      },
      "source": [
        "y_labels_2 = []\n",
        "for images, labels in test_data.unbatch(): # unbatch the test data and get images and labels\n",
        "  y_labels_2.append(labels.numpy().argmax()) # append the index which has the largest value (labels are one-hot)\n",
        "y_labels_2[:10] # check what they look like (unshuffled)"
      ],
      "execution_count": 63,
      "outputs": [
        {
          "output_type": "execute_result",
          "data": {
            "text/plain": [
              "[0, 0, 0, 0, 0, 0, 0, 0, 0, 0]"
            ]
          },
          "metadata": {},
          "execution_count": 63
        }
      ]
    },
    {
      "cell_type": "code",
      "metadata": {
        "colab": {
          "base_uri": "https://localhost:8080/"
        },
        "id": "Smmt8jpSpq83",
        "outputId": "79626b53-04c8-42a0-f801-a394177146e6"
      },
      "source": [
        "# How many labels are there? (should be the same as how many prediction probabilities we have)\n",
        "len(y_labels_2)"
      ],
      "execution_count": 64,
      "outputs": [
        {
          "output_type": "execute_result",
          "data": {
            "text/plain": [
              "394"
            ]
          },
          "metadata": {},
          "execution_count": 64
        }
      ]
    },
    {
      "cell_type": "code",
      "metadata": {
        "colab": {
          "base_uri": "https://localhost:8080/"
        },
        "id": "r3WXycMQpwcb",
        "outputId": "981bdbd2-01e1-4612-f986-662a32a05d42"
      },
      "source": [
        "# Get accuracy score by comparing predicted classes to ground truth labels\n",
        "from sklearn.metrics import accuracy_score\n",
        "sklearn_accuracy_2 = accuracy_score(y_labels_2, pred_classes_2)\n",
        "sklearn_accuracy"
      ],
      "execution_count": 66,
      "outputs": [
        {
          "output_type": "execute_result",
          "data": {
            "text/plain": [
              "0.733502538071066"
            ]
          },
          "metadata": {},
          "execution_count": 66
        }
      ]
    },
    {
      "cell_type": "code",
      "metadata": {
        "colab": {
          "base_uri": "https://localhost:8080/"
        },
        "id": "tPa8xP4qp3z1",
        "outputId": "a5bc0c7c-5022-41d1-aeae-8d234fd2eafe"
      },
      "source": [
        "# Does the evaluate method compare to the Scikit-Learn measured accuracy?\n",
        "import numpy as np\n",
        "print(f\"Close? {np.isclose(loaded_accuracy_2, sklearn_accuracy_2)} | Difference: {loaded_accuracy_2 - sklearn_accuracy_2}\")"
      ],
      "execution_count": 67,
      "outputs": [
        {
          "output_type": "stream",
          "name": "stdout",
          "text": [
            "Close? True | Difference: 2.874335658376026e-08\n"
          ]
        }
      ]
    },
    {
      "cell_type": "code",
      "metadata": {
        "id": "FXoIv1N1qDDV"
      },
      "source": [
        "# We'll import our make_confusion_matrix function from https://github.com/mrdbourke/tensorflow-deep-learning/blob/main/extras/helper_functions.py \n",
        "# But if you run it out of the box, it doesn't really work for 101 classes...\n",
        "# the cell below adds a little functionality to make it readable.\n",
        "from helper_functions import make_confusion_matrix"
      ],
      "execution_count": 68,
      "outputs": []
    },
    {
      "cell_type": "code",
      "metadata": {
        "colab": {
          "base_uri": "https://localhost:8080/",
          "height": 580
        },
        "id": "JSZ6d2a5qHoq",
        "outputId": "3cde097f-bf8e-47d2-ee5d-093b1351d016"
      },
      "source": [
        "# Plot a confusion matrix with all 25250 predictions, ground truth labels and 101 classes\n",
        "make_confusion_matrix(y_true=y_labels_2,\n",
        "                      y_pred=pred_classes_2,\n",
        "                      classes=class_names,\n",
        "                      figsize=(10, 10),\n",
        "                      text_size=15,\n",
        "                      norm=False,\n",
        "                      savefig=True)"
      ],
      "execution_count": 69,
      "outputs": [
        {
          "output_type": "display_data",
          "data": {
            "image/png": "[encoded data removed]",
            "text/plain": [
              "<Figure size 720x720 with 2 Axes>"
            ]
          },
          "metadata": {
            "needs_background": "light"
          }
        }
      ]
    },
    {
      "cell_type": "code",
      "metadata": {
        "colab": {
          "base_uri": "https://localhost:8080/",
          "height": 573
        },
        "id": "cRmjDmowqO9d",
        "outputId": "e3b5840f-cc82-4ea3-8806-bc464ff243de"
      },
      "source": [
        "plot_loss_curves(history_mobilenetv3)"
      ],
      "execution_count": 70,
      "outputs": [
        {
          "output_type": "display_data",
          "data": {
            "image/png": "[encoded data removed]",
            "text/plain": [
              "<Figure size 432x288 with 1 Axes>"
            ]
          },
          "metadata": {
            "needs_background": "light"
          }
        },
        {
          "output_type": "display_data",
          "data": {
            "image/png": "[encoded data removed]",
            "text/plain": [
              "<Figure size 432x288 with 1 Axes>"
            ]
          },
          "metadata": {
            "needs_background": "light"
          }
        }
      ]
    },
    {
      "cell_type": "code",
      "metadata": {
        "colab": {
          "base_uri": "https://localhost:8080/"
        },
        "id": "aLZrNLe5qWdN",
        "outputId": "b915ef74-30cf-48f6-c68e-f24d9c2f916d"
      },
      "source": [
        "from sklearn.metrics import classification_report\n",
        "print(classification_report(y_labels_2, pred_classes_2))"
      ],
      "execution_count": 71,
      "outputs": [
        {
          "output_type": "stream",
          "name": "stdout",
          "text": [
            "              precision    recall  f1-score   support\n",
            "\n",
            "           0       1.00      0.15      0.26       100\n",
            "           1       0.63      0.95      0.75       115\n",
            "           2       0.78      0.98      0.87       105\n",
            "           3       0.85      0.84      0.84        74\n",
            "\n",
            "    accuracy                           0.73       394\n",
            "   macro avg       0.81      0.73      0.68       394\n",
            "weighted avg       0.80      0.73      0.68       394\n",
            "\n"
          ]
        }
      ]
    },
    {
      "cell_type": "code",
      "metadata": {
        "colab": {
          "base_uri": "https://localhost:8080/"
        },
        "id": "yQPvLYJ-qdY5",
        "outputId": "49534485-cce9-424d-a554-4ca9daf96172"
      },
      "source": [
        "# Get a dictionary of the classification report\n",
        "classification_report_dict_2 = classification_report(y_labels_2, pred_classes_2, output_dict=True)\n",
        "classification_report_dict_2"
      ],
      "execution_count": 72,
      "outputs": [
        {
          "output_type": "execute_result",
          "data": {
            "text/plain": [
              "{'0': {'f1-score': 0.2608695652173913,\n",
              "  'precision': 1.0,\n",
              "  'recall': 0.15,\n",
              "  'support': 100},\n",
              " '1': {'f1-score': 0.7543252595155708,\n",
              "  'precision': 0.6264367816091954,\n",
              "  'recall': 0.9478260869565217,\n",
              "  'support': 115},\n",
              " '2': {'f1-score': 0.8691983122362869,\n",
              "  'precision': 0.7803030303030303,\n",
              "  'recall': 0.9809523809523809,\n",
              "  'support': 105},\n",
              " '3': {'f1-score': 0.8435374149659863,\n",
              "  'precision': 0.8493150684931506,\n",
              "  'recall': 0.8378378378378378,\n",
              "  'support': 74},\n",
              " 'accuracy': 0.733502538071066,\n",
              " 'macro avg': {'f1-score': 0.6819826379838089,\n",
              "  'precision': 0.814013720101344,\n",
              "  'recall': 0.7291540764366851,\n",
              "  'support': 394},\n",
              " 'weighted avg': {'f1-score': 0.6764516570008196,\n",
              "  'precision': 0.804115134861342,\n",
              "  'recall': 0.733502538071066,\n",
              "  'support': 394}}"
            ]
          },
          "metadata": {},
          "execution_count": 72
        }
      ]
    },
    {
      "cell_type": "code",
      "metadata": {
        "colab": {
          "base_uri": "https://localhost:8080/"
        },
        "id": "RaAHombfqlq9",
        "outputId": "c0771054-e057-4149-c997-c08fbaf714af"
      },
      "source": [
        "# Create empty dictionary\n",
        "class_f1_scores_2 = {}\n",
        "# Loop through classification report items\n",
        "for k, v in classification_report_dict_2.items():\n",
        "  if k == \"accuracy\": # stop once we get to accuracy key\n",
        "    break\n",
        "  else:\n",
        "    # Append class names and f1-scores to new dictionary\n",
        "    class_f1_scores_2[class_names[int(k)]] = v[\"f1-score\"]\n",
        "class_f1_scores_2"
      ],
      "execution_count": 73,
      "outputs": [
        {
          "output_type": "execute_result",
          "data": {
            "text/plain": [
              "{'glioma_tumor': 0.2608695652173913,\n",
              " 'meningioma_tumor': 0.7543252595155708,\n",
              " 'no_tumor': 0.8691983122362869,\n",
              " 'pituitary_tumor': 0.8435374149659863}"
            ]
          },
          "metadata": {},
          "execution_count": 73
        }
      ]
    },
    {
      "cell_type": "code",
      "metadata": {
        "colab": {
          "base_uri": "https://localhost:8080/",
          "height": 175
        },
        "id": "rY5yQxFnquxc",
        "outputId": "39002d70-d876-40db-8dcc-c90022233e1d"
      },
      "source": [
        "# Turn f1-scores into dataframe for visualization\n",
        "import pandas as pd\n",
        "f1_scores_2 = pd.DataFrame({\"class_name\": list(class_f1_scores_2.keys()),\n",
        "                          \"f1-score\": list(class_f1_scores_2.values())}).sort_values(\"f1-score\", ascending=False)\n",
        "f1_scores_2"
      ],
      "execution_count": 74,
      "outputs": [
        {
          "output_type": "execute_result",
          "data": {
            "text/html": [
              "<div>\n",
              "<style scoped>\n",
              "    .dataframe tbody tr th:only-of-type {\n",
              "        vertical-align: middle;\n",
              "    }\n",
              "\n",
              "    .dataframe tbody tr th {\n",
              "        vertical-align: top;\n",
              "    }\n",
              "\n",
              "    .dataframe thead th {\n",
              "        text-align: right;\n",
              "    }\n",
              "</style>\n",
              "<table border=\"1\" class=\"dataframe\">\n",
              "  <thead>\n",
              "    <tr style=\"text-align: right;\">\n",
              "      <th></th>\n",
              "      <th>class_name</th>\n",
              "      <th>f1-score</th>\n",
              "    </tr>\n",
              "  </thead>\n",
              "  <tbody>\n",
              "    <tr>\n",
              "      <th>2</th>\n",
              "      <td>no_tumor</td>\n",
              "      <td>0.869198</td>\n",
              "    </tr>\n",
              "    <tr>\n",
              "      <th>3</th>\n",
              "      <td>pituitary_tumor</td>\n",
              "      <td>0.843537</td>\n",
              "    </tr>\n",
              "    <tr>\n",
              "      <th>1</th>\n",
              "      <td>meningioma_tumor</td>\n",
              "      <td>0.754325</td>\n",
              "    </tr>\n",
              "    <tr>\n",
              "      <th>0</th>\n",
              "      <td>glioma_tumor</td>\n",
              "      <td>0.260870</td>\n",
              "    </tr>\n",
              "  </tbody>\n",
              "</table>\n",
              "</div>"
            ],
            "text/plain": [
              "         class_name  f1-score\n",
              "2          no_tumor  0.869198\n",
              "3   pituitary_tumor  0.843537\n",
              "1  meningioma_tumor  0.754325\n",
              "0      glioma_tumor  0.260870"
            ]
          },
          "metadata": {},
          "execution_count": 74
        }
      ]
    },
    {
      "cell_type": "code",
      "metadata": {
        "colab": {
          "base_uri": "https://localhost:8080/",
          "height": 1000
        },
        "id": "yHTgQ3e_q4Dh",
        "outputId": "44739878-5390-4a84-857f-d9a117d9668e"
      },
      "source": [
        "import matplotlib.pyplot as plt\n",
        "\n",
        "fig, ax = plt.subplots(figsize=(12, 25))\n",
        "scores = ax.barh(range(len(f1_scores_2)), f1_scores_2[\"f1-score\"].values)\n",
        "ax.set_yticks(range(len(f1_scores_2)))\n",
        "ax.set_yticklabels(list(f1_scores_2[\"class_name\"]))\n",
        "ax.set_xlabel(\"f1-score\")\n",
        "ax.set_title(\"F1-Scores for 4 Different Classes for MobilenetV3Small\")\n",
        "ax.invert_yaxis(); # reverse the order\n",
        "\n",
        "def autolabel(rects): # Modified version of: https://matplotlib.org/examples/api/barchart_demo.html\n",
        "  \"\"\"\n",
        "  Attach a text label above each bar displaying its height (it's value).\n",
        "  \"\"\"\n",
        "  for rect in rects:\n",
        "    width = rect.get_width()\n",
        "    ax.text(1.0*width, rect.get_y() + rect.get_height()/1.5,\n",
        "            f\"{width:.2f}\",\n",
        "            ha='center', va='bottom')\n",
        "\n",
        "autolabel(scores)"
      ],
      "execution_count": 76,
      "outputs": [
        {
          "output_type": "display_data",
          "data": {
            "image/png": "[encoded data removed]",
            "text/plain": [
              "<Figure size 864x1800 with 1 Axes>"
            ]
          },
          "metadata": {
            "needs_background": "light"
          }
        }
      ]
    }
  ]
}